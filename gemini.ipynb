{
 "cells": [
  {
   "cell_type": "code",
   "execution_count": 52,
   "metadata": {},
   "outputs": [],
   "source": [
    "import google.generativeai as genai"
   ]
  },
  {
   "cell_type": "code",
   "execution_count": 53,
   "metadata": {},
   "outputs": [],
   "source": [
    "import os\n",
    "from dotenv import load_dotenv\n",
    "\n",
    "# Load environment variables from .env file\n",
    "load_dotenv()\n",
    "\n",
    "# Access variables from the .env file\n",
    "api_key = os.getenv(\"API_KEY\")\n",
    "\n"
   ]
  },
  {
   "cell_type": "code",
   "execution_count": 54,
   "metadata": {},
   "outputs": [],
   "source": [
    "genai.configure(api_key=api_key)"
   ]
  },
  {
   "cell_type": "code",
   "execution_count": 55,
   "metadata": {},
   "outputs": [
    {
     "name": "stdout",
     "output_type": "stream",
     "text": [
      "models/chat-bison-001\n",
      "models/text-bison-001\n",
      "models/embedding-gecko-001\n",
      "models/gemini-1.0-pro\n",
      "models/gemini-1.0-pro-001\n",
      "models/gemini-1.0-pro-latest\n",
      "models/gemini-1.0-pro-vision-latest\n",
      "models/gemini-1.5-flash\n",
      "models/gemini-1.5-flash-001\n",
      "models/gemini-1.5-flash-latest\n",
      "models/gemini-1.5-pro\n",
      "models/gemini-1.5-pro-001\n",
      "models/gemini-1.5-pro-latest\n",
      "models/gemini-pro\n",
      "models/gemini-pro-vision\n",
      "models/embedding-001\n",
      "models/text-embedding-004\n",
      "models/aqa\n"
     ]
    }
   ],
   "source": [
    "for model in genai.list_models():\n",
    "    print(model.name)"
   ]
  },
  {
   "cell_type": "code",
   "execution_count": 78,
   "metadata": {},
   "outputs": [],
   "source": [
    "config = genai.types.GenerationConfig(temperature=0.3, max_output_tokens=8192, stop_sequences=['X']) #jesli zostawimy X i poprosimy o alfabet, to dostaniemy alfabet do W"
   ]
  },
  {
   "cell_type": "code",
   "execution_count": 76,
   "metadata": {},
   "outputs": [],
   "source": [
    "def get_reponse_config(prompt, gen_config):\n",
    "    response = model.generate_content(contents=prompt, generation_config=gen_config)\n",
    "    return response"
   ]
  },
  {
   "cell_type": "code",
   "execution_count": 80,
   "metadata": {},
   "outputs": [
    {
     "name": "stdout",
     "output_type": "stream",
     "text": [
      "Here's an interesting fact about pyramids:\n",
      "\n",
      "**The Great Pyramid of Giza was the tallest man-made structure in the world for over 3,800 years!** 🤯 \n",
      "\n",
      "It was only surpassed in height in 1311 AD by the Lincoln Cathedral in England.  This fact highlights the incredible architectural and engineering skills of the ancient Egyptians. \n",
      "\n"
     ]
    }
   ],
   "source": [
    "result = get_reponse_config('tell me a interesting fact about piramids', config)\n",
    "print(result.text)"
   ]
  },
  {
   "cell_type": "code",
   "execution_count": 56,
   "metadata": {},
   "outputs": [],
   "source": [
    "model = genai.GenerativeModel('gemini-1.5-pro')"
   ]
  },
  {
   "cell_type": "code",
   "execution_count": 57,
   "metadata": {},
   "outputs": [],
   "source": [
    "prompt = \"capital of poland?\""
   ]
  },
  {
   "cell_type": "code",
   "execution_count": 58,
   "metadata": {},
   "outputs": [
    {
     "name": "stdout",
     "output_type": "stream",
     "text": [
      "The capital of Poland is **Warsaw**. \n",
      "\n"
     ]
    }
   ],
   "source": [
    "response = model.generate_content(prompt)\n",
    "print(response.text) #zwykły string"
   ]
  },
  {
   "cell_type": "code",
   "execution_count": 59,
   "metadata": {},
   "outputs": [
    {
     "data": {
      "text/plain": []
     },
     "execution_count": 59,
     "metadata": {},
     "output_type": "execute_result"
    }
   ],
   "source": [
    "response.prompt_feedback"
   ]
  },
  {
   "cell_type": "code",
   "execution_count": 60,
   "metadata": {},
   "outputs": [
    {
     "data": {
      "text/plain": [
       "[index: 0\n",
       "content {\n",
       "  parts {\n",
       "    text: \"The capital of Poland is **Warsaw**. \\n\"\n",
       "  }\n",
       "  role: \"model\"\n",
       "}\n",
       "finish_reason: STOP\n",
       "safety_ratings {\n",
       "  category: HARM_CATEGORY_SEXUALLY_EXPLICIT\n",
       "  probability: NEGLIGIBLE\n",
       "}\n",
       "safety_ratings {\n",
       "  category: HARM_CATEGORY_HATE_SPEECH\n",
       "  probability: NEGLIGIBLE\n",
       "}\n",
       "safety_ratings {\n",
       "  category: HARM_CATEGORY_HARASSMENT\n",
       "  probability: NEGLIGIBLE\n",
       "}\n",
       "safety_ratings {\n",
       "  category: HARM_CATEGORY_DANGEROUS_CONTENT\n",
       "  probability: NEGLIGIBLE\n",
       "}\n",
       "]"
      ]
     },
     "execution_count": 60,
     "metadata": {},
     "output_type": "execute_result"
    }
   ],
   "source": [
    "response.candidates"
   ]
  },
  {
   "cell_type": "code",
   "execution_count": 61,
   "metadata": {},
   "outputs": [],
   "source": [
    "def get_reponse(prompt):\n",
    "    response = model.generate_content(prompt)\n",
    "    return response.text"
   ]
  },
  {
   "cell_type": "code",
   "execution_count": 62,
   "metadata": {},
   "outputs": [
    {
     "data": {
      "text/plain": [
       "'The capital of Poland is **Warsaw**. \\n'"
      ]
     },
     "execution_count": 62,
     "metadata": {},
     "output_type": "execute_result"
    }
   ],
   "source": [
    "get_reponse('capital of poland?')"
   ]
  },
  {
   "cell_type": "markdown",
   "metadata": {},
   "source": [
    "# chat model - messages and chat history"
   ]
  },
  {
   "cell_type": "code",
   "execution_count": 63,
   "metadata": {},
   "outputs": [
    {
     "data": {
      "text/plain": [
       "google.generativeai.generative_models.ChatSession"
      ]
     },
     "execution_count": 63,
     "metadata": {},
     "output_type": "execute_result"
    }
   ],
   "source": [
    "# chat instance\n",
    "\n",
    "chat = model.start_chat()\n",
    "type(chat)"
   ]
  },
  {
   "cell_type": "code",
   "execution_count": 64,
   "metadata": {},
   "outputs": [],
   "source": [
    "response = chat.send_message(prompt)"
   ]
  },
  {
   "cell_type": "code",
   "execution_count": 65,
   "metadata": {},
   "outputs": [
    {
     "data": {
      "text/plain": [
       "[parts {\n",
       "   text: \"capital of poland?\"\n",
       " }\n",
       " role: \"user\",\n",
       " parts {\n",
       "   text: \"The capital of Poland is **Warsaw**. \\n\"\n",
       " }\n",
       " role: \"model\"]"
      ]
     },
     "execution_count": 65,
     "metadata": {},
     "output_type": "execute_result"
    }
   ],
   "source": [
    "chat.history"
   ]
  },
  {
   "cell_type": "code",
   "execution_count": 66,
   "metadata": {},
   "outputs": [
    {
     "name": "stdout",
     "output_type": "stream",
     "text": [
      "Here's some more information about Warsaw, Poland:\n",
      "\n",
      "**A City of Resilience:**\n",
      "\n",
      "* **Rebuilt from Ruins:** Warsaw has a tumultuous history, having been almost completely destroyed during World War II.  The city's historic center, meticulously rebuilt by its citizens, is now a UNESCO World Heritage site, standing as a testament to their spirit and determination.\n",
      "* **A Blend of Old and New:** Warsaw seamlessly blends its reconstructed Old Town with modern architecture and vibrant street life. You'll find charming cobblestone streets alongside sleek skyscrapers.\n",
      "\n",
      "**Cultural Hub:**\n",
      "\n",
      "* **Chopin's City:** Warsaw is the birthplace of renowned composer Frédéric Chopin, and his legacy is celebrated throughout the city. Visit the Fryderyk Chopin Museum, attend a concert at the Chopin statue in Łazienki Park, or simply enjoy the street musicians playing his melodies.\n",
      "* **Museums and Palaces:** Explore the Royal Castle, stroll through the opulent Wilanów Palace, or delve into Polish history at the Warsaw Uprising Museum or POLIN Museum of the History of Polish Jews.\n",
      "\n",
      "**Modern Metropolis:**\n",
      "\n",
      "* **Green Spaces:** Despite being a bustling city, Warsaw is surprisingly green. Relax in Łazienki Park, explore the gardens of the Royal Baths of Culture and Science, or take a bike ride along the Vistula River.\n",
      "* **Vibrant Nightlife:** Warsaw boasts a lively nightlife scene, with a wide range of pubs, clubs, and restaurants catering to all tastes. \n",
      "\n",
      "**Don't Miss:**\n",
      "\n",
      "* **Wander through the Old Town Market Square:** Admire the colorful buildings and enjoy the street performers.\n",
      "* **Visit the Palace of Culture and Science:** Take the elevator to the top floor for panoramic views of the city.\n",
      "* **Experience the nightlife in Praga:** This up-and-coming district on the east side of the Vistula River is known for its alternative arts scene and hip bars.\n",
      "\n",
      "\n",
      "Whether you're interested in history, culture, or simply soaking up the atmosphere of a dynamic European city, Warsaw has something to offer everyone. \n",
      "\n"
     ]
    }
   ],
   "source": [
    "response = chat.send_message('could you tell me something more about that city?')\n",
    "print(response.text)"
   ]
  },
  {
   "cell_type": "code",
   "execution_count": 67,
   "metadata": {},
   "outputs": [
    {
     "data": {
      "text/plain": [
       "[parts {\n",
       "   text: \"capital of poland?\"\n",
       " }\n",
       " role: \"user\",\n",
       " parts {\n",
       "   text: \"The capital of Poland is **Warsaw**. \\n\"\n",
       " }\n",
       " role: \"model\",\n",
       " parts {\n",
       "   text: \"could you tell me something more about that city?\"\n",
       " }\n",
       " role: \"user\",\n",
       " parts {\n",
       "   text: \"Here\\'s some more information about Warsaw, Poland:\\n\\n**A City of Resilience:**\\n\\n* **Rebuilt from Ruins:** Warsaw has a tumultuous history, having been almost completely destroyed during World War II.  The city\\'s historic center, meticulously rebuilt by its citizens, is now a UNESCO World Heritage site, standing as a testament to their spirit and determination.\\n* **A Blend of Old and New:** Warsaw seamlessly blends its reconstructed Old Town with modern architecture and vibrant street life. You\\'ll find charming cobblestone streets alongside sleek skyscrapers.\\n\\n**Cultural Hub:**\\n\\n* **Chopin\\'s City:** Warsaw is the birthplace of renowned composer Frédéric Chopin, and his legacy is celebrated throughout the city. Visit the Fryderyk Chopin Museum, attend a concert at the Chopin statue in Łazienki Park, or simply enjoy the street musicians playing his melodies.\\n* **Museums and Palaces:** Explore the Royal Castle, stroll through the opulent Wilanów Palace, or delve into Polish history at the Warsaw Uprising Museum or POLIN Museum of the History of Polish Jews.\\n\\n**Modern Metropolis:**\\n\\n* **Green Spaces:** Despite being a bustling city, Warsaw is surprisingly green. Relax in Łazienki Park, explore the gardens of the Royal Baths of Culture and Science, or take a bike ride along the Vistula River.\\n* **Vibrant Nightlife:** Warsaw boasts a lively nightlife scene, with a wide range of pubs, clubs, and restaurants catering to all tastes. \\n\\n**Don\\'t Miss:**\\n\\n* **Wander through the Old Town Market Square:** Admire the colorful buildings and enjoy the street performers.\\n* **Visit the Palace of Culture and Science:** Take the elevator to the top floor for panoramic views of the city.\\n* **Experience the nightlife in Praga:** This up-and-coming district on the east side of the Vistula River is known for its alternative arts scene and hip bars.\\n\\n\\nWhether you\\'re interested in history, culture, or simply soaking up the atmosphere of a dynamic European city, Warsaw has something to offer everyone. \\n\"\n",
       " }\n",
       " role: \"model\"]"
      ]
     },
     "execution_count": 67,
     "metadata": {},
     "output_type": "execute_result"
    }
   ],
   "source": [
    "chat.history"
   ]
  },
  {
   "cell_type": "code",
   "execution_count": 74,
   "metadata": {},
   "outputs": [
    {
     "name": "stdout",
     "output_type": "stream",
     "text": [
      "capital of poland?\n",
      "\n",
      "\n",
      "\n",
      "The capital of Poland is **Warsaw**. \n",
      "\n",
      "\n",
      "\n",
      "\n",
      "could you tell me something more about that city?\n",
      "\n",
      "\n",
      "\n",
      "Here's some more information about Warsaw, Poland:\n",
      "\n",
      "**A City of Resilience:**\n",
      "\n",
      "* **Rebuilt from Ruins:** Warsaw has a tumultuous history, having been almost completely destroyed during World War II.  The city's historic center, meticulously rebuilt by its citizens, is now a UNESCO World Heritage site, standing as a testament to their spirit and determination.\n",
      "* **A Blend of Old and New:** Warsaw seamlessly blends its reconstructed Old Town with modern architecture and vibrant street life. You'll find charming cobblestone streets alongside sleek skyscrapers.\n",
      "\n",
      "**Cultural Hub:**\n",
      "\n",
      "* **Chopin's City:** Warsaw is the birthplace of renowned composer Frédéric Chopin, and his legacy is celebrated throughout the city. Visit the Fryderyk Chopin Museum, attend a concert at the Chopin statue in Łazienki Park, or simply enjoy the street musicians playing his melodies.\n",
      "* **Museums and Palaces:** Explore the Royal Castle, stroll through the opulent Wilanów Palace, or delve into Polish history at the Warsaw Uprising Museum or POLIN Museum of the History of Polish Jews.\n",
      "\n",
      "**Modern Metropolis:**\n",
      "\n",
      "* **Green Spaces:** Despite being a bustling city, Warsaw is surprisingly green. Relax in Łazienki Park, explore the gardens of the Royal Baths of Culture and Science, or take a bike ride along the Vistula River.\n",
      "* **Vibrant Nightlife:** Warsaw boasts a lively nightlife scene, with a wide range of pubs, clubs, and restaurants catering to all tastes. \n",
      "\n",
      "**Don't Miss:**\n",
      "\n",
      "* **Wander through the Old Town Market Square:** Admire the colorful buildings and enjoy the street performers.\n",
      "* **Visit the Palace of Culture and Science:** Take the elevator to the top floor for panoramic views of the city.\n",
      "* **Experience the nightlife in Praga:** This up-and-coming district on the east side of the Vistula River is known for its alternative arts scene and hip bars.\n",
      "\n",
      "\n",
      "Whether you're interested in history, culture, or simply soaking up the atmosphere of a dynamic European city, Warsaw has something to offer everyone. \n",
      "\n",
      "\n",
      "\n",
      "\n"
     ]
    }
   ],
   "source": [
    "for item in chat.history:\n",
    "    print(item.parts[0].text)\n",
    "    print('\\n\\n')"
   ]
  },
  {
   "cell_type": "code",
   "execution_count": 75,
   "metadata": {},
   "outputs": [
    {
     "data": {
      "text/plain": [
       "total_tokens: 1"
      ]
     },
     "execution_count": 75,
     "metadata": {},
     "output_type": "execute_result"
    }
   ],
   "source": [
    "model.count_tokens('tekst')"
   ]
  },
  {
   "cell_type": "code",
   "execution_count": 81,
   "metadata": {},
   "outputs": [],
   "source": [
    "### Vision"
   ]
  },
  {
   "cell_type": "code",
   "execution_count": 82,
   "metadata": {},
   "outputs": [
    {
     "name": "stdout",
     "output_type": "stream",
     "text": [
      "Requirement already satisfied: Pillow in c:\\users\\mawan\\appdata\\local\\programs\\python\\python312\\lib\\site-packages (10.3.0)\n",
      "Note: you may need to restart the kernel to use updated packages.\n"
     ]
    }
   ],
   "source": [
    "pip install Pillow"
   ]
  },
  {
   "cell_type": "code",
   "execution_count": 83,
   "metadata": {},
   "outputs": [],
   "source": [
    "import google.generativeai as genai \n",
    "genai.configure(api_key=\"API_KEY\")"
   ]
  },
  {
   "cell_type": "code",
   "execution_count": 84,
   "metadata": {},
   "outputs": [],
   "source": [
    "model = genai.GenerativeModel('gemini-pro-vision')"
   ]
  },
  {
   "cell_type": "code",
   "execution_count": null,
   "metadata": {},
   "outputs": [],
   "source": [
    "import PIL\n",
    "img = PIL.image.open('zdjecie.jpg')\n",
    "img"
   ]
  },
  {
   "cell_type": "code",
   "execution_count": null,
   "metadata": {},
   "outputs": [],
   "source": [
    "response = model.generate_content(img)"
   ]
  },
  {
   "cell_type": "code",
   "execution_count": null,
   "metadata": {},
   "outputs": [],
   "source": [
    "response.text"
   ]
  },
  {
   "cell_type": "code",
   "execution_count": 85,
   "metadata": {},
   "outputs": [
    {
     "ename": "NameError",
     "evalue": "name 'img' is not defined",
     "output_type": "error",
     "traceback": [
      "\u001b[1;31m---------------------------------------------------------------------------\u001b[0m",
      "\u001b[1;31mNameError\u001b[0m                                 Traceback (most recent call last)",
      "Cell \u001b[1;32mIn[85], line 2\u001b[0m\n\u001b[0;32m      1\u001b[0m text_prompt \u001b[38;5;241m=\u001b[39m \u001b[38;5;124m'\u001b[39m\u001b[38;5;124mbased on the image create me a anime version of this image\u001b[39m\u001b[38;5;124m'\u001b[39m\n\u001b[1;32m----> 2\u001b[0m response \u001b[38;5;241m=\u001b[39m model\u001b[38;5;241m.\u001b[39mgenerate_content(contents \u001b[38;5;241m=\u001b[39m [text_prompt, \u001b[43mimg\u001b[49m])\n",
      "\u001b[1;31mNameError\u001b[0m: name 'img' is not defined"
     ]
    }
   ],
   "source": [
    "text_prompt = 'based on the image create me a scenario for movie'\n",
    "response = model.generate_content(contents = [text_prompt, img])"
   ]
  },
  {
   "cell_type": "code",
   "execution_count": null,
   "metadata": {},
   "outputs": [],
   "source": [
    "print(response.text)"
   ]
  },
  {
   "cell_type": "code",
   "execution_count": null,
   "metadata": {},
   "outputs": [],
   "source": []
  },
  {
   "cell_type": "code",
   "execution_count": null,
   "metadata": {},
   "outputs": [],
   "source": []
  },
  {
   "cell_type": "code",
   "execution_count": null,
   "metadata": {},
   "outputs": [],
   "source": []
  },
  {
   "cell_type": "code",
   "execution_count": null,
   "metadata": {},
   "outputs": [],
   "source": []
  },
  {
   "cell_type": "code",
   "execution_count": null,
   "metadata": {},
   "outputs": [],
   "source": []
  },
  {
   "cell_type": "code",
   "execution_count": null,
   "metadata": {},
   "outputs": [],
   "source": []
  },
  {
   "cell_type": "code",
   "execution_count": null,
   "metadata": {},
   "outputs": [],
   "source": []
  },
  {
   "cell_type": "code",
   "execution_count": null,
   "metadata": {},
   "outputs": [],
   "source": []
  },
  {
   "cell_type": "code",
   "execution_count": null,
   "metadata": {},
   "outputs": [],
   "source": []
  },
  {
   "cell_type": "code",
   "execution_count": null,
   "metadata": {},
   "outputs": [],
   "source": []
  },
  {
   "cell_type": "code",
   "execution_count": null,
   "metadata": {},
   "outputs": [],
   "source": []
  }
 ],
 "metadata": {
  "kernelspec": {
   "display_name": "Python 3",
   "language": "python",
   "name": "python3"
  },
  "language_info": {
   "codemirror_mode": {
    "name": "ipython",
    "version": 3
   },
   "file_extension": ".py",
   "mimetype": "text/x-python",
   "name": "python",
   "nbconvert_exporter": "python",
   "pygments_lexer": "ipython3",
   "version": "3.12.0"
  }
 },
 "nbformat": 4,
 "nbformat_minor": 2
}
