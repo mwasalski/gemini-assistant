{
 "cells": [
  {
   "cell_type": "code",
   "execution_count": 1,
   "metadata": {},
   "outputs": [
    {
     "name": "stderr",
     "output_type": "stream",
     "text": [
      "c:\\Users\\mawan\\AppData\\Local\\Programs\\Python\\Python312\\Lib\\site-packages\\tqdm\\auto.py:21: TqdmWarning: IProgress not found. Please update jupyter and ipywidgets. See https://ipywidgets.readthedocs.io/en/stable/user_install.html\n",
      "  from .autonotebook import tqdm as notebook_tqdm\n"
     ]
    }
   ],
   "source": [
    "import google.generativeai as genai"
   ]
  },
  {
   "cell_type": "code",
   "execution_count": 3,
   "metadata": {},
   "outputs": [],
   "source": [
    "api_key = \"123\""
   ]
  },
  {
   "cell_type": "code",
   "execution_count": 4,
   "metadata": {},
   "outputs": [],
   "source": [
    "genai.configure(api_key=api_key)"
   ]
  },
  {
   "cell_type": "code",
   "execution_count": 5,
   "metadata": {},
   "outputs": [
    {
     "name": "stdout",
     "output_type": "stream",
     "text": [
      "models/chat-bison-001\n",
      "models/text-bison-001\n",
      "models/embedding-gecko-001\n",
      "models/gemini-1.0-pro\n",
      "models/gemini-1.0-pro-001\n",
      "models/gemini-1.0-pro-latest\n",
      "models/gemini-1.0-pro-vision-latest\n",
      "models/gemini-1.5-flash\n",
      "models/gemini-1.5-flash-001\n",
      "models/gemini-1.5-flash-latest\n",
      "models/gemini-1.5-pro\n",
      "models/gemini-1.5-pro-001\n",
      "models/gemini-1.5-pro-latest\n",
      "models/gemini-pro\n",
      "models/gemini-pro-vision\n",
      "models/embedding-001\n",
      "models/text-embedding-004\n",
      "models/aqa\n"
     ]
    }
   ],
   "source": [
    "for model in genai.list_models():\n",
    "    print(model.name)"
   ]
  },
  {
   "cell_type": "code",
   "execution_count": 14,
   "metadata": {},
   "outputs": [],
   "source": [
    "model = genai.GenerativeModel('gemini-1.5-pro')"
   ]
  },
  {
   "cell_type": "code",
   "execution_count": 15,
   "metadata": {},
   "outputs": [],
   "source": [
    "prompt = \"capital of poland?\""
   ]
  },
  {
   "cell_type": "code",
   "execution_count": 16,
   "metadata": {},
   "outputs": [
    {
     "name": "stdout",
     "output_type": "stream",
     "text": [
      "The capital of Poland is **Warsaw**. \n",
      "\n"
     ]
    }
   ],
   "source": [
    "response = model.generate_content(prompt)\n",
    "print(response.text) #zwykły string"
   ]
  },
  {
   "cell_type": "code",
   "execution_count": 17,
   "metadata": {},
   "outputs": [
    {
     "data": {
      "text/plain": []
     },
     "execution_count": 17,
     "metadata": {},
     "output_type": "execute_result"
    }
   ],
   "source": [
    "response.prompt_feedback"
   ]
  },
  {
   "cell_type": "code",
   "execution_count": 18,
   "metadata": {},
   "outputs": [
    {
     "data": {
      "text/plain": [
       "[index: 0\n",
       "content {\n",
       "  parts {\n",
       "    text: \"The capital of Poland is **Warsaw**. \\n\"\n",
       "  }\n",
       "  role: \"model\"\n",
       "}\n",
       "finish_reason: STOP\n",
       "safety_ratings {\n",
       "  category: HARM_CATEGORY_SEXUALLY_EXPLICIT\n",
       "  probability: NEGLIGIBLE\n",
       "}\n",
       "safety_ratings {\n",
       "  category: HARM_CATEGORY_HATE_SPEECH\n",
       "  probability: NEGLIGIBLE\n",
       "}\n",
       "safety_ratings {\n",
       "  category: HARM_CATEGORY_HARASSMENT\n",
       "  probability: NEGLIGIBLE\n",
       "}\n",
       "safety_ratings {\n",
       "  category: HARM_CATEGORY_DANGEROUS_CONTENT\n",
       "  probability: NEGLIGIBLE\n",
       "}\n",
       "]"
      ]
     },
     "execution_count": 18,
     "metadata": {},
     "output_type": "execute_result"
    }
   ],
   "source": [
    "response.candidates"
   ]
  },
  {
   "cell_type": "code",
   "execution_count": 19,
   "metadata": {},
   "outputs": [],
   "source": [
    "def get_reponse(prompt):\n",
    "    response = model.generate_content(prompt)\n",
    "    return response.text"
   ]
  },
  {
   "cell_type": "code",
   "execution_count": 20,
   "metadata": {},
   "outputs": [
    {
     "data": {
      "text/plain": [
       "'Warsaw \\n'"
      ]
     },
     "execution_count": 20,
     "metadata": {},
     "output_type": "execute_result"
    }
   ],
   "source": [
    "get_reponse('capital of poland?')"
   ]
  },
  {
   "cell_type": "markdown",
   "metadata": {},
   "source": [
    "# chat model - messages and chat history"
   ]
  },
  {
   "cell_type": "code",
   "execution_count": 21,
   "metadata": {},
   "outputs": [
    {
     "data": {
      "text/plain": [
       "google.generativeai.generative_models.ChatSession"
      ]
     },
     "execution_count": 21,
     "metadata": {},
     "output_type": "execute_result"
    }
   ],
   "source": [
    "# chat instance\n",
    "\n",
    "chat = model.start_chat()\n",
    "type(chat)"
   ]
  },
  {
   "cell_type": "code",
   "execution_count": 22,
   "metadata": {},
   "outputs": [],
   "source": [
    "response = chat.send_message(prompt)"
   ]
  },
  {
   "cell_type": "code",
   "execution_count": 23,
   "metadata": {},
   "outputs": [
    {
     "data": {
      "text/plain": [
       "[parts {\n",
       "   text: \"capital of poland?\"\n",
       " }\n",
       " role: \"user\",\n",
       " parts {\n",
       "   text: \"The capital of Poland is **Warsaw**. \\n\"\n",
       " }\n",
       " role: \"model\"]"
      ]
     },
     "execution_count": 23,
     "metadata": {},
     "output_type": "execute_result"
    }
   ],
   "source": [
    "chat.history"
   ]
  },
  {
   "cell_type": "code",
   "execution_count": 25,
   "metadata": {},
   "outputs": [
    {
     "name": "stdout",
     "output_type": "stream",
     "text": [
      "You want to know more about Warsaw?  Let's dive deeper!  Here are some lesser-known, but equally fascinating aspects:\n",
      "\n",
      "**Hidden Gems & Local Experiences:**\n",
      "\n",
      "* **Neon Lights of Praga:**  Cross the Vistula River to Praga, Warsaw's once gritty, now trendy district. Discover vibrant street art, cool cafes, and remnants of its industrial past, including the Neon Museum with its collection of glowing Cold War-era signs.\n",
      "* **Milk Bars & Polish Flavors:** Step back in time at a \"bar mleczny,\" a communist-era milk bar serving cheap, traditional Polish cuisine. Be sure to try pierogi (dumplings) and bigos (hunter's stew).\n",
      "* **Chopin's Legacy:**  Warsaw was the birthplace of renowned composer Frédéric Chopin.  Visit the interactive Fryderyk Chopin Museum and catch a free concert at the Chopin statue in Łazienki Park during summer. \n",
      "\n",
      "**Architecture & Urban Planning:**\n",
      "\n",
      "* **Socialist Realism:**  Warsaw offers a unique perspective on architectural styles, including examples of Socialist Realist architecture from the post-war period. The Palace of Culture and Science, though controversial, is a prime example. \n",
      "* **Modern Marvels:** The city also showcases striking modern buildings, such as the University of Warsaw Library with its rooftop garden offering panoramic views, or the innovative POLIN Museum.\n",
      "\n",
      "**Things to Keep in Mind:**\n",
      "\n",
      "* **Language:**  While you can get by with English in tourist areas, learning a few basic Polish phrases will enhance your experience and be appreciated by locals. \n",
      "* **Public Transportation:**  Warsaw has an efficient and affordable public transportation system of trams, buses, and a metro.\n",
      "\n",
      "From its layered history to its modern-day dynamism, Warsaw has something to offer every kind of traveler. Be prepared to be charmed by its resilience, its beauty, and its welcoming spirit. \n",
      "\n"
     ]
    }
   ],
   "source": [
    "response = chat.send_message('could you tell me something more about that city?')\n",
    "print(response.text)"
   ]
  },
  {
   "cell_type": "code",
   "execution_count": 26,
   "metadata": {},
   "outputs": [
    {
     "data": {
      "text/plain": [
       "[parts {\n",
       "   text: \"capital of poland?\"\n",
       " }\n",
       " role: \"user\",\n",
       " parts {\n",
       "   text: \"The capital of Poland is **Warsaw**. \\n\"\n",
       " }\n",
       " role: \"model\",\n",
       " parts {\n",
       "   text: \"could you tell me something more about that city?\"\n",
       " }\n",
       " role: \"user\",\n",
       " parts {\n",
       "   text: \"Warsaw, Poland\\'s vibrant capital, is a city of fascinating contrasts, seamlessly blending its rich history with a modern, cosmopolitan spirit. Here\\'s a glimpse into what makes Warsaw special:\\n\\n**Historical Significance:**\\n\\n* **Resilience & Reconstruction:**  Warsaw has a powerful story of resilience.  Almost completely destroyed during World War II, the city was meticulously rebuilt, with many of its historic buildings painstakingly reconstructed from rubble. This dedication to preserving its heritage earned Warsaw a UNESCO World Heritage site designation for its Old Town.\\n* **Royal Legacy:**  Warsaw was once the royal capital of Poland. Explore the magnificent Royal Castle, stroll through the elegant Łazienki Park with its Palace on the Isle, and wander the cobblestone streets of the Old Town, soaking in the city\\'s regal past.\\n\\n**Modern Metropolis:**\\n\\n* **Thriving Cultural Hub:** Warsaw boasts world-class museums, theaters, and art galleries. Don\\'t miss the Warsaw Uprising Museum, POLIN Museum of the History of Polish Jews, or a performance at the Grand Theatre. \\n* **Dynamic Economy:** As a major business and financial center, Warsaw boasts a sleek skyline punctuated by modern skyscrapers.\\n* **Lively Atmosphere:** Enjoy the city\\'s buzzing nightlife, charming cafes, traditional milk bars, and trendy restaurants.\\n\\n**Beyond the City Center:**\\n\\n* **Green Escapes:**  Escape the urban bustle in Warsaw\\'s many parks, including the sprawling Łazienki Park and the wild beauty of Kampinos National Park just outside the city.\\n* **Riverfront Relaxation:** Take a stroll or bike ride along the Vistula River, enjoying the views and fresh air.\\n\\nWhether you\\'re captivated by history, drawn to culture, or seeking urban adventure, Warsaw offers an unforgettable experience. \\n\"\n",
       " }\n",
       " role: \"model\",\n",
       " parts {\n",
       "   text: \"could you tell me something more about that city?\"\n",
       " }\n",
       " role: \"user\",\n",
       " parts {\n",
       "   text: \"You want to know more about Warsaw?  Let\\'s dive deeper!  Here are some lesser-known, but equally fascinating aspects:\\n\\n**Hidden Gems & Local Experiences:**\\n\\n* **Neon Lights of Praga:**  Cross the Vistula River to Praga, Warsaw\\'s once gritty, now trendy district. Discover vibrant street art, cool cafes, and remnants of its industrial past, including the Neon Museum with its collection of glowing Cold War-era signs.\\n* **Milk Bars & Polish Flavors:** Step back in time at a \\\"bar mleczny,\\\" a communist-era milk bar serving cheap, traditional Polish cuisine. Be sure to try pierogi (dumplings) and bigos (hunter\\'s stew).\\n* **Chopin\\'s Legacy:**  Warsaw was the birthplace of renowned composer Frédéric Chopin.  Visit the interactive Fryderyk Chopin Museum and catch a free concert at the Chopin statue in Łazienki Park during summer. \\n\\n**Architecture & Urban Planning:**\\n\\n* **Socialist Realism:**  Warsaw offers a unique perspective on architectural styles, including examples of Socialist Realist architecture from the post-war period. The Palace of Culture and Science, though controversial, is a prime example. \\n* **Modern Marvels:** The city also showcases striking modern buildings, such as the University of Warsaw Library with its rooftop garden offering panoramic views, or the innovative POLIN Museum.\\n\\n**Things to Keep in Mind:**\\n\\n* **Language:**  While you can get by with English in tourist areas, learning a few basic Polish phrases will enhance your experience and be appreciated by locals. \\n* **Public Transportation:**  Warsaw has an efficient and affordable public transportation system of trams, buses, and a metro.\\n\\nFrom its layered history to its modern-day dynamism, Warsaw has something to offer every kind of traveler. Be prepared to be charmed by its resilience, its beauty, and its welcoming spirit. \\n\"\n",
       " }\n",
       " role: \"model\"]"
      ]
     },
     "execution_count": 26,
     "metadata": {},
     "output_type": "execute_result"
    }
   ],
   "source": [
    "chat.history"
   ]
  },
  {
   "cell_type": "code",
   "execution_count": null,
   "metadata": {},
   "outputs": [],
   "source": []
  },
  {
   "cell_type": "code",
   "execution_count": null,
   "metadata": {},
   "outputs": [],
   "source": []
  },
  {
   "cell_type": "code",
   "execution_count": null,
   "metadata": {},
   "outputs": [],
   "source": []
  },
  {
   "cell_type": "code",
   "execution_count": null,
   "metadata": {},
   "outputs": [],
   "source": []
  },
  {
   "cell_type": "code",
   "execution_count": null,
   "metadata": {},
   "outputs": [],
   "source": []
  },
  {
   "cell_type": "code",
   "execution_count": null,
   "metadata": {},
   "outputs": [],
   "source": []
  },
  {
   "cell_type": "code",
   "execution_count": null,
   "metadata": {},
   "outputs": [],
   "source": []
  },
  {
   "cell_type": "code",
   "execution_count": null,
   "metadata": {},
   "outputs": [],
   "source": []
  },
  {
   "cell_type": "code",
   "execution_count": null,
   "metadata": {},
   "outputs": [],
   "source": []
  },
  {
   "cell_type": "code",
   "execution_count": null,
   "metadata": {},
   "outputs": [],
   "source": []
  },
  {
   "cell_type": "code",
   "execution_count": null,
   "metadata": {},
   "outputs": [],
   "source": []
  },
  {
   "cell_type": "code",
   "execution_count": null,
   "metadata": {},
   "outputs": [],
   "source": []
  },
  {
   "cell_type": "code",
   "execution_count": null,
   "metadata": {},
   "outputs": [],
   "source": []
  },
  {
   "cell_type": "code",
   "execution_count": null,
   "metadata": {},
   "outputs": [],
   "source": []
  },
  {
   "cell_type": "code",
   "execution_count": null,
   "metadata": {},
   "outputs": [],
   "source": []
  },
  {
   "cell_type": "code",
   "execution_count": null,
   "metadata": {},
   "outputs": [],
   "source": []
  },
  {
   "cell_type": "code",
   "execution_count": null,
   "metadata": {},
   "outputs": [],
   "source": []
  },
  {
   "cell_type": "code",
   "execution_count": null,
   "metadata": {},
   "outputs": [],
   "source": []
  },
  {
   "cell_type": "code",
   "execution_count": null,
   "metadata": {},
   "outputs": [],
   "source": []
  },
  {
   "cell_type": "code",
   "execution_count": null,
   "metadata": {},
   "outputs": [],
   "source": []
  },
  {
   "cell_type": "code",
   "execution_count": null,
   "metadata": {},
   "outputs": [],
   "source": []
  }
 ],
 "metadata": {
  "kernelspec": {
   "display_name": "Python 3",
   "language": "python",
   "name": "python3"
  },
  "language_info": {
   "codemirror_mode": {
    "name": "ipython",
    "version": 3
   },
   "file_extension": ".py",
   "mimetype": "text/x-python",
   "name": "python",
   "nbconvert_exporter": "python",
   "pygments_lexer": "ipython3",
   "version": "3.12.0"
  }
 },
 "nbformat": 4,
 "nbformat_minor": 2
}
